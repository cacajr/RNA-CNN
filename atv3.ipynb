{
 "cells": [
  {
   "cell_type": "markdown",
   "metadata": {},
   "source": [
    "<h3>Bibliotecas<h3/>"
   ]
  },
  {
   "cell_type": "code",
   "execution_count": null,
   "metadata": {},
   "outputs": [],
   "source": [
    "from keras.models import Sequential\n",
    "from keras.layers.core import Flatten\n",
    "from keras.layers.core import Dense\n",
    "from keras.layers.convolutional import Conv2D\n",
    "from keras.layers.convolutional import MaxPooling2D\n",
    "from keras.layers.core import Activation\n",
    "\n",
    "from keras.utils import to_categorical\n",
    "from keras.optimizers import SGD\n",
    "from keras import backend\n",
    "from sklearn.datasets import fetch_openml\n",
    "from sklearn.model_selection import train_test_split\n",
    "from sklearn.metrics import classification_report\n",
    "import matplotlib.pyplot as plt\n",
    "import numpy as np"
   ]
  },
  {
   "cell_type": "markdown",
   "metadata": {},
   "source": [
    "<h3>Classe<h3/>"
   ]
  },
  {
   "cell_type": "code",
   "execution_count": 3,
   "metadata": {},
   "outputs": [],
   "source": [
    "# CNN NA ARQUITETURA LeNet5\n",
    "class CNN_LeNet5(object):\n",
    "    '''\n",
    "    layers:\n",
    "    INPUT =&gt; CONV =&gt; POOL =&gt; CONV =&gt; POOL =&gt; FC =&gt; FC =&gt; OUTPUT\n",
    "    '''\n",
    "\n",
    "    @staticmethod\n",
    "    def build(width, height, channels, classes):\n",
    "        '''\n",
    "        Constroi uma CNN com arquitetura LeNet5.\n",
    " \n",
    "        :param width: Largura em pixel da imagem.\n",
    "        :param height: Altura em pixel da imagem.\n",
    "        :param channels: Quantidade de canais da imagem.\n",
    "        :param classes: Quantidade de classes para o output.\n",
    "        :return: CNN do tipo LeNet5.\n",
    "        '''\n",
    "        inputShape = (height, width, channels)\n",
    " \n",
    "        # Convolution 1\n",
    "        model = Sequential()\n",
    "        model.add(Conv2D(6, (5, 5), padding=\"same\",\n",
    "                         input_shape=inputShape))\n",
    "        model.add(Activation(\"relu\"))\n",
    "\n",
    "        # Max pool 1\n",
    "        model.add(MaxPooling2D((2,2)))\n",
    "\n",
    "        # Convolution 2\n",
    "        model.add(Conv2D(16, (5, 5)))\n",
    "        model.add(Activation(\"relu\"))\n",
    "\n",
    "        # Max pool 2\n",
    "        model.add(MaxPooling2D((2,2)))\n",
    "\n",
    "        model.add(Flatten())\n",
    "        model.add(Dense(120))\n",
    "        model.add(Activation(\"relu\"))\n",
    "        model.add(Dense(84))\n",
    "        model.add(Activation(\"relu\"))\n",
    "        model.add(Dense(classes))\n",
    "        model.add(Activation(\"softmax\"))\n",
    " \n",
    "        return model"
   ]
  },
  {
   "cell_type": "code",
   "execution_count": null,
   "metadata": {},
   "outputs": [],
   "source": [
    "# IMPORTAR E NORMALIZAR O DATASETs: MNIST(mnist_784) CIFAR-10(cifar_10)\n",
    "dataset_name = \"mnist_784\"\n",
    "dataset = fetch_openml(dataset_name)\n",
    "labels = dataset.target\n",
    "data = dataset.data.astype(\"float32\") / 255.0"
   ]
  },
  {
   "cell_type": "code",
   "execution_count": null,
   "metadata": {},
   "outputs": [],
   "source": [
    "# converter as imagens de 1D para o formato (28x28x1) se mnist_784 e para (32x32x3) se cifar_10\n",
    "if backend.image_data_format() == \"channels_last\":\n",
    "    if dataset_name == \"mnist_784\":\n",
    "        data = data.reshape((data.shape[0], 28, 28, 1))\n",
    "    elif dataset_name == \"cifar_10\":\n",
    "        data = data.reshape((data.shape[0], 32, 32, 3))\n",
    "else:\n",
    "    if dataset_name == \"mnist_784\":\n",
    "        data = data.reshape((data.shape[0], 1, 28, 28))\n",
    "    elif dataset_name == \"cifar_10\":\n",
    "        data = data.reshape((data.shape[0], 32, 32, 3))"
   ]
  },
  {
   "cell_type": "code",
   "execution_count": null,
   "metadata": {},
   "outputs": [],
   "source": [
    "# dividir o dataset entre train (75%) e test (25%)\n",
    "(trainX, testX, trainY, testY) = train_test_split(data, labels)"
   ]
  },
  {
   "cell_type": "code",
   "execution_count": null,
   "metadata": {},
   "outputs": [],
   "source": [
    "# Transformar labels em vetores binarios\n",
    "trainY = to_categorical(trainY, 10)\n",
    "testY = to_categorical(testY, 10)"
   ]
  },
  {
   "cell_type": "code",
   "execution_count": null,
   "metadata": {},
   "outputs": [],
   "source": [
    "# INICIALIZAR E OTIMIZAR MODELO\n",
    "print(\"[INFO] inicializando e otimizando a CNN...\")\n",
    "if dataset_name == \"mnist_784\":\n",
    "    model = CNN_LeNet5.build(28, 28, 1, 10)\n",
    "elif dataset_name == \"cifar_10\":\n",
    "    model = CNN_LeNet5.build(32, 32, 3, 10)\n",
    "\n",
    "model.compile(optimizer=SGD(0.01), loss=\"categorical_crossentropy\",\n",
    "              metrics=[\"accuracy\"])"
   ]
  },
  {
   "cell_type": "code",
   "execution_count": null,
   "metadata": {},
   "outputs": [],
   "source": [
    "# TREINAR A CNN\n",
    "print(\"[INFO] treinando a CNN...\")\n",
    "H = model.fit(trainX, trainY, batch_size=128, epochs=20, verbose=2,\n",
    "          validation_data=(testX, testY))"
   ]
  },
  {
   "cell_type": "code",
   "execution_count": null,
   "metadata": {},
   "outputs": [],
   "source": [
    "# AVALIACAO CNN\n",
    "print(\"[INFO] avaliando a CNN...\")\n",
    "predictions = model.predict(testX, batch_size=64)\n",
    "print(classification_report(testY.argmax(axis=1), predictions.argmax(axis=1),\n",
    "                            target_names=[str(label) for label in range(10)]))"
   ]
  },
  {
   "cell_type": "code",
   "execution_count": null,
   "metadata": {},
   "outputs": [],
   "source": [
    "# plotar loss e accuracy para os datasets 'train' e 'test'\n",
    "plt.style.use(\"ggplot\")\n",
    "plt.figure()\n",
    "plt.plot(np.arange(0,20), H.history[\"loss\"], label=\"train_loss\")\n",
    "plt.plot(np.arange(0,20), H.history[\"val_loss\"], label=\"val_loss\")\n",
    "plt.plot(np.arange(0,20), H.history[\"acc\"], label=\"train_acc\")\n",
    "plt.plot(np.arange(0,20), H.history[\"val_acc\"], label=\"val_acc\")\n",
    "plt.title(\"Training Loss and Accuracy\")\n",
    "plt.xlabel(\"Epoch #\")\n",
    "plt.ylabel(\"Loss/Accuracy\")\n",
    "plt.legend()\n",
    "plt.savefig('cnn.png', bbox_inches='tight')"
   ]
  }
 ],
 "metadata": {
  "kernelspec": {
   "display_name": "Python 3",
   "language": "python",
   "name": "python3"
  },
  "language_info": {
   "codemirror_mode": {
    "name": "ipython",
    "version": 3
   },
   "file_extension": ".py",
   "mimetype": "text/x-python",
   "name": "python",
   "nbconvert_exporter": "python",
   "pygments_lexer": "ipython3",
   "version": "3.8.5"
  }
 },
 "nbformat": 4,
 "nbformat_minor": 4
}
